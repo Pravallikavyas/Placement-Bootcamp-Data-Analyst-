{
  "nbformat": 4,
  "nbformat_minor": 0,
  "metadata": {
    "colab": {
      "provenance": [],
      "authorship_tag": "ABX9TyPWky7K9OZuKQy+jHXyDwdb",
      "include_colab_link": true
    },
    "kernelspec": {
      "name": "python3",
      "display_name": "Python 3"
    },
    "language_info": {
      "name": "python"
    }
  },
  "cells": [
    {
      "cell_type": "markdown",
      "metadata": {
        "id": "view-in-github",
        "colab_type": "text"
      },
      "source": [
        "<a href=\"https://colab.research.google.com/github/Pravallikavyas/Placement-Bootcamp-Data-Analyst-/blob/main/Python_(PlacementBootcamp).ipynb\" target=\"_parent\"><img src=\"https://colab.research.google.com/assets/colab-badge.svg\" alt=\"Open In Colab\"/></a>"
      ]
    },
    {
      "cell_type": "markdown",
      "source": [
        "**Variables and Datatypes**"
      ],
      "metadata": {
        "id": "dvd2QVXQS0D9"
      }
    },
    {
      "cell_type": "code",
      "execution_count": 10,
      "metadata": {
        "colab": {
          "base_uri": "https://localhost:8080/"
        },
        "id": "D07o6ExlbIAY",
        "outputId": "b8326c2b-ee16-4d8a-a083-b7cc16f879bf"
      },
      "outputs": [
        {
          "output_type": "stream",
          "name": "stdout",
          "text": [
            "Pravallika\n"
          ]
        }
      ],
      "source": [
        "name='Pravallika'\n",
        "print(name)"
      ]
    },
    {
      "cell_type": "code",
      "source": [
        "num1=8\n",
        "num2=10\n",
        "result=num1+num2\n",
        "print(result)"
      ],
      "metadata": {
        "colab": {
          "base_uri": "https://localhost:8080/"
        },
        "id": "a4Crp_HpbXPF",
        "outputId": "9ef6374d-3151-48d5-abdc-22f461006d11"
      },
      "execution_count": 11,
      "outputs": [
        {
          "output_type": "stream",
          "name": "stdout",
          "text": [
            "18\n"
          ]
        }
      ]
    },
    {
      "cell_type": "code",
      "source": [
        "sentence='I love my Parents'\n",
        "print(len(sentence))"
      ],
      "metadata": {
        "colab": {
          "base_uri": "https://localhost:8080/"
        },
        "id": "Vbh5lYBVbl3Z",
        "outputId": "3a2cdb69-f1b6-453e-db02-dd6b137dd077"
      },
      "execution_count": 12,
      "outputs": [
        {
          "output_type": "stream",
          "name": "stdout",
          "text": [
            "17\n"
          ]
        }
      ]
    },
    {
      "cell_type": "code",
      "source": [
        "pi=3.14159\n",
        "print(round(pi,2))"
      ],
      "metadata": {
        "colab": {
          "base_uri": "https://localhost:8080/"
        },
        "id": "mu1IwnC8bvNn",
        "outputId": "7266b37a-0d7e-4271-fc09-32a449ef60cf"
      },
      "execution_count": 13,
      "outputs": [
        {
          "output_type": "stream",
          "name": "stdout",
          "text": [
            "3.14\n"
          ]
        }
      ]
    },
    {
      "cell_type": "markdown",
      "source": [
        "**Conditional Statements and Loops**"
      ],
      "metadata": {
        "id": "MG5jAOd3TB8f"
      }
    },
    {
      "cell_type": "code",
      "source": [
        "number=int(input( ))\n",
        "if(number>0):\n",
        "  print('Positive number')\n",
        "elif(number<0):\n",
        "  print('Negative number')\n",
        "elif(number==0):\n",
        "  print('Zero')"
      ],
      "metadata": {
        "colab": {
          "base_uri": "https://localhost:8080/"
        },
        "id": "bI-z9DEAb8oh",
        "outputId": "aaec653c-a7cd-41d3-f1ed-7a26f10ec305"
      },
      "execution_count": null,
      "outputs": [
        {
          "output_type": "stream",
          "name": "stdout",
          "text": [
            "-5\n",
            "Negative number\n"
          ]
        }
      ]
    },
    {
      "cell_type": "code",
      "source": [
        "def even():\n",
        "  for i in range(1,21,1):\n",
        "    if(i%2==0):\n",
        "      print(i)\n",
        "even()"
      ],
      "metadata": {
        "colab": {
          "base_uri": "https://localhost:8080/"
        },
        "id": "BE6RhIy1cnpb",
        "outputId": "b1321981-851b-4ef5-a861-bfe743403784"
      },
      "execution_count": null,
      "outputs": [
        {
          "output_type": "stream",
          "name": "stdout",
          "text": [
            "2\n",
            "4\n",
            "6\n",
            "8\n",
            "10\n",
            "12\n",
            "14\n",
            "16\n",
            "18\n",
            "20\n"
          ]
        }
      ]
    },
    {
      "cell_type": "code",
      "source": [
        "number=int(input( ))\n",
        "sum=0\n",
        "for i in range(1,number,1):\n",
        "  if(i%1==0 and number%i==0):\n",
        "    sum=sum+1\n",
        "if(sum==1):\n",
        "  print(\"Prime number\")\n",
        "else:\n",
        "  print(\"Not a prime number\")"
      ],
      "metadata": {
        "id": "nj_FjAHGdRZn",
        "colab": {
          "base_uri": "https://localhost:8080/"
        },
        "outputId": "e9c49635-ad89-479a-81bd-59d3f2002625"
      },
      "execution_count": null,
      "outputs": [
        {
          "output_type": "stream",
          "name": "stdout",
          "text": [
            "193\n",
            "Prime number\n"
          ]
        }
      ]
    },
    {
      "cell_type": "markdown",
      "source": [
        "**Functions**"
      ],
      "metadata": {
        "id": "LUtGw_bsTXQO"
      }
    },
    {
      "cell_type": "code",
      "source": [
        "def calculate_average(a,b,c):\n",
        "  avg=(a+b+c)/3\n",
        "  print(avg)\n",
        "calculate_average(2,3,8)"
      ],
      "metadata": {
        "colab": {
          "base_uri": "https://localhost:8080/"
        },
        "id": "gr5Z25E_C3jp",
        "outputId": "c110991b-3964-46b5-b19c-641543b37413"
      },
      "execution_count": null,
      "outputs": [
        {
          "output_type": "stream",
          "name": "stdout",
          "text": [
            "4.333333333333333\n"
          ]
        }
      ]
    },
    {
      "cell_type": "code",
      "source": [
        "def is_palindrome(str1):\n",
        "  l1=list(str1)\n",
        "  if(l1[ : :-1]==l1):\n",
        "    return True\n",
        "  else:\n",
        "    return False\n",
        "a=input(\" \")\n",
        "is_palindrome(a)"
      ],
      "metadata": {
        "colab": {
          "base_uri": "https://localhost:8080/"
        },
        "id": "p2fQEZ0CDkF_",
        "outputId": "07eedd16-1dad-4bbc-bf81-22ef247d14d1"
      },
      "execution_count": null,
      "outputs": [
        {
          "name": "stdout",
          "output_type": "stream",
          "text": [
            " baab\n"
          ]
        },
        {
          "output_type": "execute_result",
          "data": {
            "text/plain": [
              "True"
            ]
          },
          "metadata": {},
          "execution_count": 32
        }
      ]
    },
    {
      "cell_type": "code",
      "source": [
        "def factorial(n):\n",
        "  fact=1\n",
        "  if(n==0 or n==1):\n",
        "    return 1\n",
        "  else:\n",
        "    for i in range(1,n+1,1):\n",
        "      fact=fact*i\n",
        "    return fact\n",
        "n=int(input())\n",
        "factorial(n)"
      ],
      "metadata": {
        "colab": {
          "base_uri": "https://localhost:8080/"
        },
        "id": "qyNgwiWYHS4C",
        "outputId": "9cdd2f56-be02-4b8c-bc2d-4401d42a0ee4"
      },
      "execution_count": null,
      "outputs": [
        {
          "name": "stdout",
          "output_type": "stream",
          "text": [
            "0\n"
          ]
        },
        {
          "output_type": "execute_result",
          "data": {
            "text/plain": [
              "1"
            ]
          },
          "metadata": {},
          "execution_count": 40
        }
      ]
    },
    {
      "cell_type": "code",
      "source": [
        "res=[]\n",
        "def print_fibonacci(n):\n",
        "   first=1\n",
        "   second=2\n",
        "   res.append(first)\n",
        "   res.append(second)\n",
        "   for i in range(n-2):\n",
        "     third=first+second\n",
        "     first=second\n",
        "     second=third\n",
        "     res.append(third)\n",
        "   print(*res)\n",
        "no=int(input( ))\n",
        "print_fibonacci(no)"
      ],
      "metadata": {
        "colab": {
          "base_uri": "https://localhost:8080/"
        },
        "id": "mrwL4jN4FphB",
        "outputId": "f9bff475-b95e-4e0d-ce48-daa858fb791a"
      },
      "execution_count": null,
      "outputs": [
        {
          "output_type": "stream",
          "name": "stdout",
          "text": [
            "8\n",
            "1 2 3 5 8 13 21 34\n"
          ]
        }
      ]
    },
    {
      "cell_type": "markdown",
      "source": [
        "**Lists and Dictionaries**"
      ],
      "metadata": {
        "id": "Tcp_Q4myTiP3"
      }
    },
    {
      "cell_type": "code",
      "source": [
        "li=list(map(int,input().split(\" \")))\n",
        "print(li)"
      ],
      "metadata": {
        "id": "HNYOviggR9s6",
        "colab": {
          "base_uri": "https://localhost:8080/"
        },
        "outputId": "3d479221-6d15-496a-f886-ad07c0c16cf7"
      },
      "execution_count": null,
      "outputs": [
        {
          "output_type": "stream",
          "name": "stdout",
          "text": [
            "1 2 3 4 5 6 7 8 9 10\n",
            "[1, 2, 3, 4, 5, 6, 7, 8, 9, 10]\n"
          ]
        }
      ]
    },
    {
      "cell_type": "code",
      "source": [
        "Names=[]\n",
        "for i in range(5):\n",
        "  name=input(\" \")\n",
        "  Names.append(name)\n",
        "print(Names)"
      ],
      "metadata": {
        "colab": {
          "base_uri": "https://localhost:8080/"
        },
        "id": "aruUtcCebaTd",
        "outputId": "e3b327ae-23ec-4315-de43-8d1e94bc2424"
      },
      "execution_count": null,
      "outputs": [
        {
          "output_type": "stream",
          "name": "stdout",
          "text": [
            " Ramana\n",
            " Sridevi\n",
            " Venkat\n",
            " Jahnavi\n",
            " Pardheev\n",
            "['Ramana', 'Sridevi', 'Venkat', 'Jahnavi', 'Pardheev']\n"
          ]
        }
      ]
    },
    {
      "cell_type": "code",
      "source": [
        "d={\"name\":\"Pravallika\",\"age\":26,\"grade\":'S'}\n",
        "print(d)"
      ],
      "metadata": {
        "colab": {
          "base_uri": "https://localhost:8080/"
        },
        "id": "6ZSnF1sJb8nW",
        "outputId": "10352212-c015-4d96-baa1-a65820a80e7b"
      },
      "execution_count": null,
      "outputs": [
        {
          "output_type": "stream",
          "name": "stdout",
          "text": [
            "{'name': 'Pravallika', 'age': 26, 'grade': 'S'}\n"
          ]
        }
      ]
    },
    {
      "cell_type": "code",
      "source": [
        "s=input()\n",
        "l=list(s)\n",
        "d1={}\n",
        "v=[]\n",
        "k=[]\n",
        "index=0\n",
        "for i in l:\n",
        "  d1['key']=i\n",
        "  k.append(d1['key'])\n",
        "  d1['value']=l.count(i)\n",
        "  v.append(d1['value'])\n",
        "d=zip(k,v)\n",
        "print(d)\n",
        "print(dict(d))"
      ],
      "metadata": {
        "colab": {
          "base_uri": "https://localhost:8080/"
        },
        "id": "O6319V8_cYWE",
        "outputId": "20596c16-dfba-411e-99a8-5f3e70e1af1f"
      },
      "execution_count": 9,
      "outputs": [
        {
          "output_type": "stream",
          "name": "stdout",
          "text": [
            "pravarsha\n",
            "<zip object at 0x786de5bdc880>\n",
            "{'p': 1, 'r': 2, 'a': 3, 'v': 1, 's': 1, 'h': 1}\n"
          ]
        }
      ]
    }
  ]
}